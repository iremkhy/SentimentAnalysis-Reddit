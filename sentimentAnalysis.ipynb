{
  "nbformat": 4,
  "nbformat_minor": 0,
  "metadata": {
    "kernelspec": {
      "display_name": "Python 3",
      "language": "python",
      "name": "python3"
    },
    "language_info": {
      "codemirror_mode": {
        "name": "ipython",
        "version": 3
      },
      "file_extension": ".py",
      "mimetype": "text/x-python",
      "name": "python",
      "nbconvert_exporter": "python",
      "pygments_lexer": "ipython3",
      "version": "3.8.3"
    },
    "colab": {
      "name": "sentiment.ipynb",
      "provenance": [],
      "collapsed_sections": []
    }
  },
  "cells": [
    {
      "cell_type": "code",
      "metadata": {
        "colab": {
          "base_uri": "https://localhost:8080/"
        },
        "id": "VQmoFr4a2AHo",
        "outputId": "8315259c-48a7-4348-a0b4-c4209cfa9058"
      },
      "source": [
        "pip install praw"
      ],
      "execution_count": null,
      "outputs": [
        {
          "output_type": "stream",
          "text": [
            "Collecting praw\n",
            "\u001b[?25l  Downloading https://files.pythonhosted.org/packages/48/a8/a2e2d0750ee17c7e3d81e4695a0338ad0b3f231853b8c3fa339ff2d25c7c/praw-7.2.0-py3-none-any.whl (159kB)\n",
            "\u001b[K     |████████████████████████████████| 163kB 6.6MB/s \n",
            "\u001b[?25hCollecting websocket-client>=0.54.0\n",
            "\u001b[?25l  Downloading https://files.pythonhosted.org/packages/08/33/80e0d4f60e84a1ddd9a03f340be1065a2a363c47ce65c4bd3bae65ce9631/websocket_client-0.58.0-py2.py3-none-any.whl (61kB)\n",
            "\u001b[K     |████████████████████████████████| 61kB 5.2MB/s \n",
            "\u001b[?25hCollecting update-checker>=0.18\n",
            "  Downloading https://files.pythonhosted.org/packages/0c/ba/8dd7fa5f0b1c6a8ac62f8f57f7e794160c1f86f31c6d0fb00f582372a3e4/update_checker-0.18.0-py3-none-any.whl\n",
            "Collecting prawcore<3,>=2\n",
            "  Downloading https://files.pythonhosted.org/packages/7d/df/4a9106bea0d26689c4b309da20c926a01440ddaf60c09a5ae22684ebd35f/prawcore-2.0.0-py3-none-any.whl\n",
            "Requirement already satisfied: six in /usr/local/lib/python3.7/dist-packages (from websocket-client>=0.54.0->praw) (1.15.0)\n",
            "Requirement already satisfied: requests>=2.3.0 in /usr/local/lib/python3.7/dist-packages (from update-checker>=0.18->praw) (2.23.0)\n",
            "Requirement already satisfied: idna<3,>=2.5 in /usr/local/lib/python3.7/dist-packages (from requests>=2.3.0->update-checker>=0.18->praw) (2.10)\n",
            "Requirement already satisfied: certifi>=2017.4.17 in /usr/local/lib/python3.7/dist-packages (from requests>=2.3.0->update-checker>=0.18->praw) (2020.12.5)\n",
            "Requirement already satisfied: urllib3!=1.25.0,!=1.25.1,<1.26,>=1.21.1 in /usr/local/lib/python3.7/dist-packages (from requests>=2.3.0->update-checker>=0.18->praw) (1.24.3)\n",
            "Requirement already satisfied: chardet<4,>=3.0.2 in /usr/local/lib/python3.7/dist-packages (from requests>=2.3.0->update-checker>=0.18->praw) (3.0.4)\n",
            "Installing collected packages: websocket-client, update-checker, prawcore, praw\n",
            "Successfully installed praw-7.2.0 prawcore-2.0.0 update-checker-0.18.0 websocket-client-0.58.0\n"
          ],
          "name": "stdout"
        }
      ]
    },
    {
      "cell_type": "code",
      "metadata": {
        "id": "kTDMNOHI1-6t"
      },
      "source": [
        "import praw\n",
        "import string\n",
        "import pandas as pd\n",
        "pd.options.display.max_colwidth = 100\n",
        "import matplotlib.pyplot as plt\n",
        "%matplotlib inline\n",
        "plt.rcParams['figure.figsize'] = (15, 8)\n",
        "import nltk\n",
        "from nltk.corpus import stopwords\n",
        "from textblob import TextBlob\n",
        "from textblob.sentiments import NaiveBayesAnalyzer"
      ],
      "execution_count": null,
      "outputs": []
    },
    {
      "cell_type": "code",
      "metadata": {
        "id": "X0pI9pDP1-6u"
      },
      "source": [
        "#Authorized Reddit Instance\n",
        "reddit = praw.Reddit(client_id ='-------', \n",
        "                     client_secret ='---------', \n",
        "                     user_agent ='------------',\n",
        "                     username = '----------',\n",
        "                     password = '--------')"
      ],
      "execution_count": null,
      "outputs": []
    },
    {
      "cell_type": "code",
      "metadata": {
        "id": "PuJn-92w1-6v"
      },
      "source": [
        "#Obtaining a Subreddit Instance\n",
        "subreddit = reddit.subreddit('unpopularopinion')"
      ],
      "execution_count": null,
      "outputs": []
    },
    {
      "cell_type": "code",
      "metadata": {
        "id": "kcBEG_bc1-6w"
      },
      "source": [
        "# display the subreddit name \n",
        "print(subreddit.display_name) \n",
        "  \n",
        "# display the subreddit title  \n",
        "print(subreddit.title)        \n",
        "  \n",
        "# display the subreddit description  \n",
        "print(subreddit.description)"
      ],
      "execution_count": null,
      "outputs": []
    },
    {
      "cell_type": "code",
      "metadata": {
        "id": "ciyYWcQp1-6w"
      },
      "source": [
        "#Obtaining submissions(posts) from subreddit\n",
        "#In this case, we obtain top 200 upvoted posts from this year and appending their information to a list.\n",
        "submissions = []\n",
        "for submission in subreddit.top('year', limit = 20):\n",
        "    s = [submission.id, submission.title, submission.selftext, submission.score, submission.num_comments, submission.shortlink]\n",
        "    submissions.append(s)"
      ],
      "execution_count": null,
      "outputs": []
    },
    {
      "cell_type": "code",
      "metadata": {
        "colab": {
          "base_uri": "https://localhost:8080/",
          "height": 975
        },
        "id": "z67cYIu91-6x",
        "outputId": "cf39e04b-add9-401f-aaf2-7091d37b4fac"
      },
      "source": [
        "#Submissions list shown with pandas data frame\n",
        "df = pd.DataFrame(submissions)\n",
        "df.columns=[\"id\", \"title\", \"selftext\", \"score\", \"num_comments\", \"shortlink\"]\n",
        "df"
      ],
      "execution_count": null,
      "outputs": [
        {
          "output_type": "execute_result",
          "data": {
            "text/html": [
              "<div>\n",
              "<style scoped>\n",
              "    .dataframe tbody tr th:only-of-type {\n",
              "        vertical-align: middle;\n",
              "    }\n",
              "\n",
              "    .dataframe tbody tr th {\n",
              "        vertical-align: top;\n",
              "    }\n",
              "\n",
              "    .dataframe thead th {\n",
              "        text-align: right;\n",
              "    }\n",
              "</style>\n",
              "<table border=\"1\" class=\"dataframe\">\n",
              "  <thead>\n",
              "    <tr style=\"text-align: right;\">\n",
              "      <th></th>\n",
              "      <th>id</th>\n",
              "      <th>title</th>\n",
              "      <th>selftext</th>\n",
              "      <th>score</th>\n",
              "      <th>num_comments</th>\n",
              "      <th>shortlink</th>\n",
              "    </tr>\n",
              "  </thead>\n",
              "  <tbody>\n",
              "    <tr>\n",
              "      <th>0</th>\n",
              "      <td>hrivbj</td>\n",
              "      <td>If Will Smith had cheated on Jada the internet would crucify him, but since it was the other way...</td>\n",
              "      <td>It is disgusting. If Will had cheated on Jada the entire internet would turn on him and crucify ...</td>\n",
              "      <td>118292</td>\n",
              "      <td>5480</td>\n",
              "      <td>https://redd.it/hrivbj</td>\n",
              "    </tr>\n",
              "    <tr>\n",
              "      <th>1</th>\n",
              "      <td>i2i2zd</td>\n",
              "      <td>Amazon could really use a \"filter out Chinese sellers\" option</td>\n",
              "      <td>It is so frustrating to shop on Amazon with the Chinese sellers and manufacturers on the site.\\n...</td>\n",
              "      <td>98077</td>\n",
              "      <td>4033</td>\n",
              "      <td>https://redd.it/i2i2zd</td>\n",
              "    </tr>\n",
              "    <tr>\n",
              "      <th>2</th>\n",
              "      <td>gjagrw</td>\n",
              "      <td>Sleeping in your car should be completely legal and never looked down upon.</td>\n",
              "      <td>I don’t understand why it’s illegal in some places and under many circumstances to sleep in your...</td>\n",
              "      <td>91399</td>\n",
              "      <td>3982</td>\n",
              "      <td>https://redd.it/gjagrw</td>\n",
              "    </tr>\n",
              "    <tr>\n",
              "      <th>3</th>\n",
              "      <td>id94u6</td>\n",
              "      <td>I highly respect millennials that walk out of jobs or any inconvenience in life</td>\n",
              "      <td>As a man in my late 50s I wish I had the halls to walk off a job when I was younger. After start...</td>\n",
              "      <td>86761</td>\n",
              "      <td>4747</td>\n",
              "      <td>https://redd.it/id94u6</td>\n",
              "    </tr>\n",
              "    <tr>\n",
              "      <th>4</th>\n",
              "      <td>i2s4hp</td>\n",
              "      <td>It doesn't matter how much you like his music, Tekashi 69 slept with a 13 year old and by listen...</td>\n",
              "      <td>No music is worth actively giving a rapist money no matter how much you like his songs. I can't ...</td>\n",
              "      <td>78261</td>\n",
              "      <td>6646</td>\n",
              "      <td>https://redd.it/i2s4hp</td>\n",
              "    </tr>\n",
              "    <tr>\n",
              "      <th>5</th>\n",
              "      <td>i36whz</td>\n",
              "      <td>All posts about pedophiles will result in an ban. Reposting \"Pedophilia is a sexuality\" will res...</td>\n",
              "      <td>Both of these are being reposted every 10 minutes. You will stop or we'll all carry on without y...</td>\n",
              "      <td>77626</td>\n",
              "      <td>5149</td>\n",
              "      <td>https://redd.it/i36whz</td>\n",
              "    </tr>\n",
              "    <tr>\n",
              "      <th>6</th>\n",
              "      <td>ihc0x6</td>\n",
              "      <td>I’m so fucking tired of being forced to care about everything all at once</td>\n",
              "      <td>I’m just one guy. I try to be a good person; I try to treat everyone equally; I try to be kind a...</td>\n",
              "      <td>77443</td>\n",
              "      <td>5009</td>\n",
              "      <td>https://redd.it/ihc0x6</td>\n",
              "    </tr>\n",
              "    <tr>\n",
              "      <th>7</th>\n",
              "      <td>gwiz10</td>\n",
              "      <td>The fact that no media outlet is covering David Dorns death is sad</td>\n",
              "      <td>He was a black, retied police chief who was murdered in the protests after he tried to defend a ...</td>\n",
              "      <td>77019</td>\n",
              "      <td>5515</td>\n",
              "      <td>https://redd.it/gwiz10</td>\n",
              "    </tr>\n",
              "    <tr>\n",
              "      <th>8</th>\n",
              "      <td>iakmvi</td>\n",
              "      <td>Middle aged guys don't buy sports cars because they're having a \"mid-life crisis,\" it's because ...</td>\n",
              "      <td>I hate hearing people say, \"oh, he bought a Corvette because he's balding and needs to feel youn...</td>\n",
              "      <td>75459</td>\n",
              "      <td>2492</td>\n",
              "      <td>https://redd.it/iakmvi</td>\n",
              "    </tr>\n",
              "    <tr>\n",
              "      <th>9</th>\n",
              "      <td>hx097d</td>\n",
              "      <td>Nobody should have to work 1/3rd of their lives, for over 40 years, to retire at ~60 just to fin...</td>\n",
              "      <td>As of right now I am 18 years old and looking into the future is depressing. I figure I’m gonna ...</td>\n",
              "      <td>73835</td>\n",
              "      <td>10206</td>\n",
              "      <td>https://redd.it/hx097d</td>\n",
              "    </tr>\n",
              "    <tr>\n",
              "      <th>10</th>\n",
              "      <td>hee5io</td>\n",
              "      <td>News should be a dry recitation of facts. If it isn't, then it's an opinion intended to stir you...</td>\n",
              "      <td>It's so hard to find a news outlet that will just present the information without spin. Without ...</td>\n",
              "      <td>73540</td>\n",
              "      <td>3762</td>\n",
              "      <td>https://redd.it/hee5io</td>\n",
              "    </tr>\n",
              "    <tr>\n",
              "      <th>11</th>\n",
              "      <td>lkgshz</td>\n",
              "      <td>\"Y'all\" is a brilliant use of the English language and i refuse to be told otherwise</td>\n",
              "      <td>I'm British, from a small town in the middle of England, nobody EVER says \"Y'all\" here and i don...</td>\n",
              "      <td>73084</td>\n",
              "      <td>6586</td>\n",
              "      <td>https://redd.it/lkgshz</td>\n",
              "    </tr>\n",
              "    <tr>\n",
              "      <th>12</th>\n",
              "      <td>ld79bb</td>\n",
              "      <td>It should be illegal for a company to list an entry level job as requiring 3-5 years experience,...</td>\n",
              "      <td>Graduates and school leavers already have an extremely hard time finding work in todays economy,...</td>\n",
              "      <td>73061</td>\n",
              "      <td>3455</td>\n",
              "      <td>https://redd.it/ld79bb</td>\n",
              "    </tr>\n",
              "    <tr>\n",
              "      <th>13</th>\n",
              "      <td>me2gae</td>\n",
              "      <td>Amazon is so overrun by cheap low quality Chinese products that it's become impossible to shop t...</td>\n",
              "      <td>I used to buy loads from Amazon, you could usually trust it to give you good brand suggestions, ...</td>\n",
              "      <td>72663</td>\n",
              "      <td>5049</td>\n",
              "      <td>https://redd.it/me2gae</td>\n",
              "    </tr>\n",
              "    <tr>\n",
              "      <th>14</th>\n",
              "      <td>l0njwk</td>\n",
              "      <td>You don’t need to love your career. You just need to be able to tolerate it so you can finance d...</td>\n",
              "      <td>Don’t find fulfillment in your career. Find fulfillment in the hobbies you have, adventures you ...</td>\n",
              "      <td>70543</td>\n",
              "      <td>2966</td>\n",
              "      <td>https://redd.it/l0njwk</td>\n",
              "    </tr>\n",
              "    <tr>\n",
              "      <th>15</th>\n",
              "      <td>hr2oq0</td>\n",
              "      <td>Men’s mental health is a joke to everyone and it’s really disheartening as a mom to two boys.</td>\n",
              "      <td>My words might be all over the place, just trying to gather my thoughts. \\n\\nIt’s crazy to me ho...</td>\n",
              "      <td>70368</td>\n",
              "      <td>5034</td>\n",
              "      <td>https://redd.it/hr2oq0</td>\n",
              "    </tr>\n",
              "    <tr>\n",
              "      <th>16</th>\n",
              "      <td>labqc0</td>\n",
              "      <td>Adding skin colors to emojis was a step back</td>\n",
              "      <td>Emojis shouldve just stayed yellow colored. \\nwhats the point of choosing a certain skin color.\\...</td>\n",
              "      <td>68767</td>\n",
              "      <td>4652</td>\n",
              "      <td>https://redd.it/labqc0</td>\n",
              "    </tr>\n",
              "    <tr>\n",
              "      <th>17</th>\n",
              "      <td>mkwxcl</td>\n",
              "      <td>Even if schools taught you how to do taxes or other life skills, not many of you would pay atten...</td>\n",
              "      <td>Let’s be honest, most of you barely pay attention on geometry. How many of you will honestly say...</td>\n",
              "      <td>68833</td>\n",
              "      <td>4565</td>\n",
              "      <td>https://redd.it/mkwxcl</td>\n",
              "    </tr>\n",
              "    <tr>\n",
              "      <th>18</th>\n",
              "      <td>hmxsrj</td>\n",
              "      <td>It's so fucked up that talking to kids is now taboo</td>\n",
              "      <td>This is something I seriously want people's opinions on. I saw a post of Leo DiCaprio taking a s...</td>\n",
              "      <td>65995</td>\n",
              "      <td>4904</td>\n",
              "      <td>https://redd.it/hmxsrj</td>\n",
              "    </tr>\n",
              "    <tr>\n",
              "      <th>19</th>\n",
              "      <td>igvxda</td>\n",
              "      <td>It’s totally ok to play video games on the easiest setting to enjoy the story line.</td>\n",
              "      <td>I have been getting so much grief from my gamer friends for playing games on easy mode. They are...</td>\n",
              "      <td>65303</td>\n",
              "      <td>4357</td>\n",
              "      <td>https://redd.it/igvxda</td>\n",
              "    </tr>\n",
              "  </tbody>\n",
              "</table>\n",
              "</div>"
            ],
            "text/plain": [
              "        id  ...               shortlink\n",
              "0   hrivbj  ...  https://redd.it/hrivbj\n",
              "1   i2i2zd  ...  https://redd.it/i2i2zd\n",
              "2   gjagrw  ...  https://redd.it/gjagrw\n",
              "3   id94u6  ...  https://redd.it/id94u6\n",
              "4   i2s4hp  ...  https://redd.it/i2s4hp\n",
              "5   i36whz  ...  https://redd.it/i36whz\n",
              "6   ihc0x6  ...  https://redd.it/ihc0x6\n",
              "7   gwiz10  ...  https://redd.it/gwiz10\n",
              "8   iakmvi  ...  https://redd.it/iakmvi\n",
              "9   hx097d  ...  https://redd.it/hx097d\n",
              "10  hee5io  ...  https://redd.it/hee5io\n",
              "11  lkgshz  ...  https://redd.it/lkgshz\n",
              "12  ld79bb  ...  https://redd.it/ld79bb\n",
              "13  me2gae  ...  https://redd.it/me2gae\n",
              "14  l0njwk  ...  https://redd.it/l0njwk\n",
              "15  hr2oq0  ...  https://redd.it/hr2oq0\n",
              "16  labqc0  ...  https://redd.it/labqc0\n",
              "17  mkwxcl  ...  https://redd.it/mkwxcl\n",
              "18  hmxsrj  ...  https://redd.it/hmxsrj\n",
              "19  igvxda  ...  https://redd.it/igvxda\n",
              "\n",
              "[20 rows x 6 columns]"
            ]
          },
          "metadata": {
            "tags": []
          },
          "execution_count": 7
        }
      ]
    },
    {
      "cell_type": "code",
      "metadata": {
        "id": "8aOorJD_1-6x"
      },
      "source": [
        "#HOT POSTS RIGHT NOW\n",
        "submissions = []\n",
        "for submission in subreddit.hot(limit = 200):\n",
        "    s = [submission.id, submission.title, submission.selftext, submission.score, submission.num_comments, submission.shortlink]\n",
        "    submissions.append(s)\n",
        "df = pd.DataFrame(submissions)\n",
        "df.columns=[\"id\", \"title\", \"selftext\", \"score\", \"num_comments\", \"shortlink\"]\n",
        "df"
      ],
      "execution_count": null,
      "outputs": []
    },
    {
      "cell_type": "code",
      "metadata": {
        "id": "go1BtyUo1-6x"
      },
      "source": [
        "sentiments = []\n",
        "for index, row in df.iterrows():\n",
        "    #blob = TextBlob(row['title'], analyzer=NaiveBayesAnalyzer())\n",
        "    blob = TextBlob(row['title'])\n",
        "    analysis = blob.sentiment\n",
        "    #comment_sentiment = blob.sentiment.polarity\n",
        "    #print(row['title'] + ': ' + str(blob.sentiment.polarity))\n",
        "    sentiments.append([analysis.polarity, analysis.subjectivity])\n",
        "    print(row['title'])\n",
        "    print(analysis)\n",
        "    print(\"----------\")"
      ],
      "execution_count": null,
      "outputs": []
    },
    {
      "cell_type": "code",
      "metadata": {
        "colab": {
          "base_uri": "https://localhost:8080/",
          "height": 402
        },
        "id": "XWfhVcrX1-6y",
        "outputId": "de960cc0-17d6-4d42-de0f-0ce1dcedbf9c"
      },
      "source": [
        "sentiments_df = pd.DataFrame(sentiments)\n",
        "sentiments_df.columns=[\"polarity\", \"subjectivity\"]\n",
        "sentiments_df"
      ],
      "execution_count": null,
      "outputs": [
        {
          "output_type": "execute_result",
          "data": {
            "text/html": [
              "<div>\n",
              "<style scoped>\n",
              "    .dataframe tbody tr th:only-of-type {\n",
              "        vertical-align: middle;\n",
              "    }\n",
              "\n",
              "    .dataframe tbody tr th {\n",
              "        vertical-align: top;\n",
              "    }\n",
              "\n",
              "    .dataframe thead th {\n",
              "        text-align: right;\n",
              "    }\n",
              "</style>\n",
              "<table border=\"1\" class=\"dataframe\">\n",
              "  <thead>\n",
              "    <tr style=\"text-align: right;\">\n",
              "      <th></th>\n",
              "      <th>polarity</th>\n",
              "      <th>subjectivity</th>\n",
              "    </tr>\n",
              "  </thead>\n",
              "  <tbody>\n",
              "    <tr>\n",
              "      <th>0</th>\n",
              "      <td>0.125000</td>\n",
              "      <td>0.200000</td>\n",
              "    </tr>\n",
              "    <tr>\n",
              "      <th>1</th>\n",
              "      <td>0.600000</td>\n",
              "      <td>0.900000</td>\n",
              "    </tr>\n",
              "    <tr>\n",
              "      <th>2</th>\n",
              "      <td>0.000000</td>\n",
              "      <td>0.100000</td>\n",
              "    </tr>\n",
              "    <tr>\n",
              "      <th>3</th>\n",
              "      <td>0.357143</td>\n",
              "      <td>0.571429</td>\n",
              "    </tr>\n",
              "    <tr>\n",
              "      <th>4</th>\n",
              "      <td>-0.500000</td>\n",
              "      <td>0.500000</td>\n",
              "    </tr>\n",
              "    <tr>\n",
              "      <th>...</th>\n",
              "      <td>...</td>\n",
              "      <td>...</td>\n",
              "    </tr>\n",
              "    <tr>\n",
              "      <th>195</th>\n",
              "      <td>0.262500</td>\n",
              "      <td>0.500000</td>\n",
              "    </tr>\n",
              "    <tr>\n",
              "      <th>196</th>\n",
              "      <td>-0.350000</td>\n",
              "      <td>0.333333</td>\n",
              "    </tr>\n",
              "    <tr>\n",
              "      <th>197</th>\n",
              "      <td>-0.095000</td>\n",
              "      <td>0.458750</td>\n",
              "    </tr>\n",
              "    <tr>\n",
              "      <th>198</th>\n",
              "      <td>0.300000</td>\n",
              "      <td>0.366667</td>\n",
              "    </tr>\n",
              "    <tr>\n",
              "      <th>199</th>\n",
              "      <td>-1.000000</td>\n",
              "      <td>1.000000</td>\n",
              "    </tr>\n",
              "  </tbody>\n",
              "</table>\n",
              "<p>200 rows × 2 columns</p>\n",
              "</div>"
            ],
            "text/plain": [
              "     polarity  subjectivity\n",
              "0    0.125000      0.200000\n",
              "1    0.600000      0.900000\n",
              "2    0.000000      0.100000\n",
              "3    0.357143      0.571429\n",
              "4   -0.500000      0.500000\n",
              "..        ...           ...\n",
              "195  0.262500      0.500000\n",
              "196 -0.350000      0.333333\n",
              "197 -0.095000      0.458750\n",
              "198  0.300000      0.366667\n",
              "199 -1.000000      1.000000\n",
              "\n",
              "[200 rows x 2 columns]"
            ]
          },
          "metadata": {
            "tags": []
          },
          "execution_count": 10
        }
      ]
    },
    {
      "cell_type": "code",
      "metadata": {
        "colab": {
          "base_uri": "https://localhost:8080/",
          "height": 570
        },
        "id": "fQJUa5N_1-6y",
        "outputId": "df5f22ec-8570-4d50-bc40-c76b0efde0ce"
      },
      "source": [
        "new_df = pd.concat([df,sentiments_df], axis=1)\n",
        "classifications = []\n",
        "for index, row in new_df.iterrows():\n",
        "    if row['polarity'] < 0.0: classifications.append(['negative'])\n",
        "    elif row['polarity'] > 0.0: classifications.append(['positive'])\n",
        "    else: classifications.append(['neutral'])\n",
        "classifications_df = pd.DataFrame(classifications)\n",
        "classifications_df.columns =[\"classification\"]\n",
        "new_df = pd.concat([new_df, classifications_df], axis=1)\n",
        "new_df"
      ],
      "execution_count": null,
      "outputs": [
        {
          "output_type": "execute_result",
          "data": {
            "text/html": [
              "<div>\n",
              "<style scoped>\n",
              "    .dataframe tbody tr th:only-of-type {\n",
              "        vertical-align: middle;\n",
              "    }\n",
              "\n",
              "    .dataframe tbody tr th {\n",
              "        vertical-align: top;\n",
              "    }\n",
              "\n",
              "    .dataframe thead th {\n",
              "        text-align: right;\n",
              "    }\n",
              "</style>\n",
              "<table border=\"1\" class=\"dataframe\">\n",
              "  <thead>\n",
              "    <tr style=\"text-align: right;\">\n",
              "      <th></th>\n",
              "      <th>id</th>\n",
              "      <th>title</th>\n",
              "      <th>selftext</th>\n",
              "      <th>score</th>\n",
              "      <th>num_comments</th>\n",
              "      <th>shortlink</th>\n",
              "      <th>polarity</th>\n",
              "      <th>subjectivity</th>\n",
              "      <th>classification</th>\n",
              "    </tr>\n",
              "  </thead>\n",
              "  <tbody>\n",
              "    <tr>\n",
              "      <th>0</th>\n",
              "      <td>mzi45q</td>\n",
              "      <td>Please don’t make another “Name” war. The Josh battle should be our first and last.</td>\n",
              "      <td>Seriously. The Josh battle was funny. However, copying the original Josh war by scheduling a Nat...</td>\n",
              "      <td>28238</td>\n",
              "      <td>1104</td>\n",
              "      <td>https://redd.it/mzi45q</td>\n",
              "      <td>0.125000</td>\n",
              "      <td>0.200000</td>\n",
              "      <td>positive</td>\n",
              "    </tr>\n",
              "    <tr>\n",
              "      <th>1</th>\n",
              "      <td>n06kub</td>\n",
              "      <td>Popular Topics Mega-Hub</td>\n",
              "      <td>Greetings, you opinionated, unpopular lot! This is your one-stop shop for all of the ridiculousl...</td>\n",
              "      <td>21</td>\n",
              "      <td>0</td>\n",
              "      <td>https://redd.it/n06kub</td>\n",
              "      <td>0.600000</td>\n",
              "      <td>0.900000</td>\n",
              "      <td>positive</td>\n",
              "    </tr>\n",
              "    <tr>\n",
              "      <th>2</th>\n",
              "      <td>n188ug</td>\n",
              "      <td>We need to stop pretending that degrees actually help people prepare for careers</td>\n",
              "      <td>The over importance of a degree in recruiting is far beyond the pale. There is a major unspoken ...</td>\n",
              "      <td>4159</td>\n",
              "      <td>653</td>\n",
              "      <td>https://redd.it/n188ug</td>\n",
              "      <td>0.000000</td>\n",
              "      <td>0.100000</td>\n",
              "      <td>neutral</td>\n",
              "    </tr>\n",
              "    <tr>\n",
              "      <th>3</th>\n",
              "      <td>n13j6j</td>\n",
              "      <td>Judging people by how they look is smart and a safe way of living</td>\n",
              "      <td>Now I'm not talking like a basic color of their skin, I'm talking how they dress, any sort of ma...</td>\n",
              "      <td>11885</td>\n",
              "      <td>1275</td>\n",
              "      <td>https://redd.it/n13j6j</td>\n",
              "      <td>0.357143</td>\n",
              "      <td>0.571429</td>\n",
              "      <td>positive</td>\n",
              "    </tr>\n",
              "    <tr>\n",
              "      <th>4</th>\n",
              "      <td>n1478b</td>\n",
              "      <td>Spotify ads with vehicle sounds should be illegal</td>\n",
              "      <td>Why is it that every single time I’m driving, I get that Wendy’s Spotify ad that has the sound o...</td>\n",
              "      <td>6846</td>\n",
              "      <td>285</td>\n",
              "      <td>https://redd.it/n1478b</td>\n",
              "      <td>-0.500000</td>\n",
              "      <td>0.500000</td>\n",
              "      <td>negative</td>\n",
              "    </tr>\n",
              "    <tr>\n",
              "      <th>...</th>\n",
              "      <td>...</td>\n",
              "      <td>...</td>\n",
              "      <td>...</td>\n",
              "      <td>...</td>\n",
              "      <td>...</td>\n",
              "      <td>...</td>\n",
              "      <td>...</td>\n",
              "      <td>...</td>\n",
              "      <td>...</td>\n",
              "    </tr>\n",
              "    <tr>\n",
              "      <th>195</th>\n",
              "      <td>n113gp</td>\n",
              "      <td>Big noses are more attractive on women than small noses</td>\n",
              "      <td>I am a guy with a small kinda short nose. It wasn't untill recently were I realized that I reall...</td>\n",
              "      <td>17</td>\n",
              "      <td>13</td>\n",
              "      <td>https://redd.it/n113gp</td>\n",
              "      <td>0.262500</td>\n",
              "      <td>0.500000</td>\n",
              "      <td>positive</td>\n",
              "    </tr>\n",
              "    <tr>\n",
              "      <th>196</th>\n",
              "      <td>n19ghc</td>\n",
              "      <td>Any product that covers bad smells is gross.</td>\n",
              "      <td>If a person/place/thing smells bad, I want to know so that I can avoid it. Noses are highly sens...</td>\n",
              "      <td>4</td>\n",
              "      <td>9</td>\n",
              "      <td>https://redd.it/n19ghc</td>\n",
              "      <td>-0.350000</td>\n",
              "      <td>0.333333</td>\n",
              "      <td>negative</td>\n",
              "    </tr>\n",
              "    <tr>\n",
              "      <th>197</th>\n",
              "      <td>n110oy</td>\n",
              "      <td>I prefer very runny milkshakes over very thick ones.</td>\n",
              "      <td>Everytime I tell someone this I get ridiculed beyond belief, thus putting me into a self conscio...</td>\n",
              "      <td>16</td>\n",
              "      <td>13</td>\n",
              "      <td>https://redd.it/n110oy</td>\n",
              "      <td>-0.095000</td>\n",
              "      <td>0.458750</td>\n",
              "      <td>negative</td>\n",
              "    </tr>\n",
              "    <tr>\n",
              "      <th>198</th>\n",
              "      <td>n0t604</td>\n",
              "      <td>I'm not against military spending, and many people who are don't appreciate how safe their count...</td>\n",
              "      <td>There's a lot of anti-military sentiments in America right now, and heavy criticism goes to the ...</td>\n",
              "      <td>81</td>\n",
              "      <td>129</td>\n",
              "      <td>https://redd.it/n0t604</td>\n",
              "      <td>0.300000</td>\n",
              "      <td>0.366667</td>\n",
              "      <td>positive</td>\n",
              "    </tr>\n",
              "    <tr>\n",
              "      <th>199</th>\n",
              "      <td>n163a4</td>\n",
              "      <td>Onions are disgusting</td>\n",
              "      <td>I hate them with every fiber of my being. Especially cooked ones. That slimy texture is a big no...</td>\n",
              "      <td>5</td>\n",
              "      <td>15</td>\n",
              "      <td>https://redd.it/n163a4</td>\n",
              "      <td>-1.000000</td>\n",
              "      <td>1.000000</td>\n",
              "      <td>negative</td>\n",
              "    </tr>\n",
              "  </tbody>\n",
              "</table>\n",
              "<p>200 rows × 9 columns</p>\n",
              "</div>"
            ],
            "text/plain": [
              "         id  ... classification\n",
              "0    mzi45q  ...       positive\n",
              "1    n06kub  ...       positive\n",
              "2    n188ug  ...        neutral\n",
              "3    n13j6j  ...       positive\n",
              "4    n1478b  ...       negative\n",
              "..      ...  ...            ...\n",
              "195  n113gp  ...       positive\n",
              "196  n19ghc  ...       negative\n",
              "197  n110oy  ...       negative\n",
              "198  n0t604  ...       positive\n",
              "199  n163a4  ...       negative\n",
              "\n",
              "[200 rows x 9 columns]"
            ]
          },
          "metadata": {
            "tags": []
          },
          "execution_count": 11
        }
      ]
    },
    {
      "cell_type": "code",
      "metadata": {
        "colab": {
          "base_uri": "https://localhost:8080/",
          "height": 497
        },
        "id": "2xpPZdDO1-6z",
        "outputId": "34f005b5-f18c-43fe-89e3-87c7c7411622"
      },
      "source": [
        "plt.scatter(new_df['polarity'], new_df['subjectivity'])\n",
        "plt.xlabel('polarity')\n",
        "plt.ylabel('subjectivity')\n",
        "plt.grid()\n",
        "plt.show()"
      ],
      "execution_count": null,
      "outputs": [
        {
          "output_type": "display_data",
          "data": {
            "image/png": "[encoded data removed]",
            "text/plain": [
              "<Figure size 1080x576 with 1 Axes>"
            ]
          },
          "metadata": {
            "tags": [],
            "needs_background": "light"
          }
        }
      ]
    },
    {
      "cell_type": "code",
      "metadata": {
        "colab": {
          "base_uri": "https://localhost:8080/",
          "height": 497
        },
        "id": "UPZTYci61-6z",
        "outputId": "35ef561c-6ef5-4c6c-d205-49e7c0ee13d3"
      },
      "source": [
        "plt.plot(new_df['score'], new_df['num_comments'])\n",
        "plt.xlabel('score')\n",
        "plt.ylabel('num_comments')\n",
        "plt.grid()\n",
        "plt.show()"
      ],
      "execution_count": null,
      "outputs": [
        {
          "output_type": "display_data",
          "data": {
            "image/png": "[encoded data removed]",
            "text/plain": [
              "<Figure size 1080x576 with 1 Axes>"
            ]
          },
          "metadata": {
            "tags": [],
            "needs_background": "light"
          }
        }
      ]
    },
    {
      "cell_type": "code",
      "metadata": {
        "colab": {
          "base_uri": "https://localhost:8080/",
          "height": 534
        },
        "id": "SRyKvCj11-60",
        "outputId": "e147ad3c-b84a-42a5-8d59-a969043d2ceb"
      },
      "source": [
        "new_df['classification'].value_counts().plot(kind='bar')"
      ],
      "execution_count": null,
      "outputs": [
        {
          "output_type": "execute_result",
          "data": {
            "text/plain": [
              "<matplotlib.axes._subplots.AxesSubplot at 0x7f6eda0e1c10>"
            ]
          },
          "metadata": {
            "tags": []
          },
          "execution_count": 14
        },
        {
          "output_type": "display_data",
          "data": {
            "image/png": "[encoded data removed]",
            "text/plain": [
              "<Figure size 1080x576 with 1 Axes>"
            ]
          },
          "metadata": {
            "tags": [],
            "needs_background": "light"
          }
        }
      ]
    },
    {
      "cell_type": "code",
      "metadata": {
        "colab": {
          "base_uri": "https://localhost:8080/",
          "height": 497
        },
        "id": "eqhVYJrt1-60",
        "outputId": "4e200070-a5b3-4cee-b3aa-fe4e1d5ab0b3"
      },
      "source": [
        "plt.bar(new_df['classification'], new_df['score'])\n",
        "plt.xlabel('classification')\n",
        "plt.ylabel('score')\n",
        "plt.show()"
      ],
      "execution_count": null,
      "outputs": [
        {
          "output_type": "display_data",
          "data": {
            "image/png": "[encoded data removed]",
            "text/plain": [
              "<Figure size 1080x576 with 1 Axes>"
            ]
          },
          "metadata": {
            "tags": [],
            "needs_background": "light"
          }
        }
      ]
    },
    {
      "cell_type": "code",
      "metadata": {
        "id": "f3qmuhVH1-60"
      },
      "source": [
        ""
      ],
      "execution_count": null,
      "outputs": []
    }
  ]
}